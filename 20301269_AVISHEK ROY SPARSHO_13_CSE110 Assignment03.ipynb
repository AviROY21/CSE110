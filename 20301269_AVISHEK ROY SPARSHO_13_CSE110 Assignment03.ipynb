{
 "cells": [
  {
   "cell_type": "markdown",
   "metadata": {
    "colab_type": "text",
    "id": "xDNsncrtU1yM"
   },
   "source": [
    "# CSE110 Assignment 3\n",
    "\n"
   ]
  },
  {
   "cell_type": "markdown",
   "metadata": {
    "colab_type": "text",
    "id": "gh4GUDaIU1yO"
   },
   "source": [
    "\n",
    "## Write the Python code of the following problems:\n",
    "\n",
    "**<font color='red'>[MUST MAINTAIN VARIABLE NAMING CONVENTIONS FOR ALL THE TASKS]</font>**\n",
    "\n",
    "## Part 1: String\n",
    "\n",
    "\n",
    "\n"
   ]
  },
  {
   "cell_type": "markdown",
   "metadata": {
    "colab_type": "text",
    "id": "KD4EKJf6U1yQ"
   },
   "source": [
    "### Task 1 \n",
    "\n",
    "Write a Python program that will ask the user to input a string (containing exactly one word). Then your program should print a subsequent substring of the given string.\n",
    "\n",
    "**Example1:**\\\n",
    "Input: BANGLA\\\n",
    "Output:\\\n",
    "B\\\n",
    "BA\\\n",
    "BAN\\\n",
    "BANG\\\n",
    "BANGL\\\n",
    "BANGLA\n",
    "\n",
    "**Example2:**\\\n",
    "Input: DREAM\\\n",
    "Output:\\\n",
    "D\\\n",
    "DR\\\n",
    "DRE\\\n",
    "DREA\\\n",
    "DREAM\n",
    "\n",
    "**Hints(1):** Need to use \"for loop\" for this task.\n",
    "\n",
    "**Hints(2):** Need to use print() function for prnting newlines.\n",
    "\n",
    "For example:\\\n",
    "print(1)\\\n",
    "print(2)\n",
    "\n",
    "Output:\\\n",
    "1\\\n",
    "2\n",
    "\n",
    "=====================================================================\n",
    "\n",
    "We need use print(end = \"\") to skip printing the additional newline.\n",
    "\n",
    "For example:\\\n",
    "print(1, end =\" \")\\\n",
    "print(2)\n",
    "\n",
    "Output:(prints the next output right to the previous one)\\\n",
    "12\n",
    "\n",
    "=====================================================================\n",
    "\n",
    "\n",
    "\n",
    "\n"
   ]
  },
  {
   "cell_type": "code",
   "execution_count": 10,
   "metadata": {
    "colab": {},
    "colab_type": "code",
    "id": "vJhpmj2XU1yR"
   },
   "outputs": [
    {
     "name": "stdout",
     "output_type": "stream",
     "text": [
      "Enter the string:BANGLA\n",
      "B\n",
      "BA\n",
      "BAN\n",
      "BANG\n",
      "BANGL\n",
      "BANGLA\n"
     ]
    }
   ],
   "source": [
    "Ar=input('Enter the string:')\n",
    "l=len(Ar)\n",
    "for r in range(l):\n",
    "    for i in range(r+1, l+1):\n",
    "        print(Ar[r:i])\n",
    "    break\n"
   ]
  },
  {
   "cell_type": "markdown",
   "metadata": {
    "colab_type": "text",
    "id": "1Zv__0ZWU1yd"
   },
   "source": [
    "### Task 2\n",
    "\n",
    "Write a Python program that will ask the user to enter two strings (s1, s2) as an input. Then create a mixed string with alternative characters from each string. Any leftover chars will be appended at the end of the result string.\n",
    "\n",
    "**Example 1:**\\\n",
    "Input:\\\n",
    "\"ABCD\"\\\n",
    "\"efgh\"\n",
    "\n",
    "Output:\\\n",
    "AeBfCgDh\n",
    "\n",
    "**Example 2:**\\\n",
    "Input:\\\n",
    "\"ABCDENDFGH\"\\\n",
    "\"ijkl\"\n",
    "\n",
    "Output:\\\n",
    "AiBjCkDlENDFGH\n",
    "\n",
    "**Example 3:**\\\n",
    "Input:\\\n",
    "\"ijkl\"\\\n",
    "\"ABCDENDFGH\"\n",
    "\n",
    "Output:\\\n",
    "iAjBkClDENDFGH\n",
    "\n",
    "*Hint: For adding the leftover characters use string slicing.*\n",
    "\n",
    "\n"
   ]
  },
  {
   "cell_type": "code",
   "execution_count": 11,
   "metadata": {
    "colab": {},
    "colab_type": "code",
    "id": "jUiv7ECJU1yd"
   },
   "outputs": [
    {
     "name": "stdout",
     "output_type": "stream",
     "text": [
      "Enter the inputA:ijkl\n",
      "Enter the inputB:ABCDENDFGH\n",
      "iAjBkClDENDFGH\n"
     ]
    }
   ],
   "source": [
    "s1=input('Enter the inputA:')\n",
    "s2=input('Enter the inputB:')\n",
    "\n",
    "i=0\n",
    "j=0\n",
    "result=''\n",
    "while i<len(s1) or j<len(s2):\n",
    "    if i<len(s1):\n",
    "        result=result+s1[i]\n",
    "        i=i+1\n",
    "    if j< len(s2):\n",
    "        result=result+s2[j]\n",
    "        j=j+1\n",
    "print(result)\n",
    "\n",
    "\n",
    "\n"
   ]
  },
  {
   "cell_type": "markdown",
   "metadata": {
    "colab_type": "text",
    "id": "pbdeIVcyU1yi"
   },
   "source": [
    "### Task3\n",
    "\n",
    "Write a Python program that will ask the user to enter a  word as an input. If the length of the input string is less than 4, then your program should print the same string as an output. If the input string’s length is greater than 3, then your program should add “er” at the end of the input string. If the input string already ends with “er”, then add “est” instead. If the input string already ends with “est”, then your program should print the same string as an output.\n",
    "\n",
    "**Example 1:**\\\n",
    "Input: strong\\\n",
    "Output: stronger\n",
    "\n",
    "**Example 2:**\\\n",
    "Input: stronger\\\n",
    "Output: strongest\n",
    "\n",
    "**Example 3:**\\\n",
    "Input: strongest\\\n",
    "Output: strongest\n",
    "\n",
    "**Example 4:**\\\n",
    "Input: abc\\\n",
    "Output: abc\n"
   ]
  },
  {
   "cell_type": "code",
   "execution_count": 12,
   "metadata": {
    "colab": {},
    "colab_type": "code",
    "id": "A5df9pmJU1yj"
   },
   "outputs": [
    {
     "name": "stdout",
     "output_type": "stream",
     "text": [
      "Enter user inputA:strong\n",
      "stronger\n"
     ]
    }
   ],
   "source": [
    "s1=input('Enter user inputA:')\n",
    "l=len(s1)\n",
    "if l>3:\n",
    "    if s1 [-2:]=='er':\n",
    "        s1=s1[0:-2]+'est'\n",
    "    else:\n",
    "        s1=s1+'er'\n",
    "print(s1)"
   ]
  },
  {
   "cell_type": "markdown",
   "metadata": {
    "colab_type": "text",
    "id": "PsBbgc4YU1yp"
   },
   "source": [
    "### Task4\n",
    "\n",
    "Write a Python program that will ask the user to input a string (containing exactly one word). Then print code for each character in the String using the ord() function. Use any means necessary.\n",
    "\n",
    "To check if your program is working correctly or not, you can find a list of all correct values from the following website. Look at “Dec” and “Char” columns only, ignore other columns.\\\n",
    "link: http://www.asciitable.com/\n",
    "\n",
    "**Example 1:**\\\n",
    "Input: Programming\\\n",
    "Output:\\\n",
    "P : 80\\\n",
    "r : 114\\\n",
    "o : 111\\\n",
    "g : 103\\\n",
    "r : 114\\\n",
    "a : 97\\\n",
    "m : 109\\\n",
    "m : 109\\\n",
    "i : 105\\\n",
    "n : 110\\\n",
    "g : 103\n",
    "\n",
    "**Example 2:**\\\n",
    "Input: hunger\\\n",
    "Output:\\\n",
    "h : 104\\\n",
    "u : 117\\\n",
    "n : 110\\\n",
    "g : 103\\\n",
    "e : 101\\\n",
    "r : 114 "
   ]
  },
  {
   "cell_type": "code",
   "execution_count": 9,
   "metadata": {
    "colab": {},
    "colab_type": "code",
    "id": "r8by7ONZU1ys"
   },
   "outputs": [
    {
     "name": "stdout",
     "output_type": "stream",
     "text": [
      "h:104\n",
      "u:117\n",
      "n:110\n",
      "g:103\n",
      "e:101\n",
      "r:114\n"
     ]
    }
   ],
   "source": [
    "RY='hunger'\n",
    "for r in RY:\n",
    "    v=ord(r)\n",
    "    print(r+':'+str(v))"
   ]
  },
  {
   "cell_type": "markdown",
   "metadata": {
    "colab_type": "text",
    "id": "O8lIVppgU1yw"
   },
   "source": [
    "### Task5\n",
    "\n",
    "Given a word as input in small letters, print the next alphabet in sequence for each alphabet found in the input.\n",
    "\n",
    "**Example1:**\\\n",
    "Input: abcd\\\n",
    "Output: bcde\n",
    "\n",
    "**Example2:**\\\n",
    "Input: the cow\\\n",
    "Output: uif!dpx\n",
    "\n",
    "**Example3: <font color='red'>[Must fulfil this criteria]</font>**\\\n",
    "Input: xyzabc\\\n",
    "Output: yzabcd\n",
    "\n",
    "*Hint: You need to use functions ord() and chr(). The ASCII value of ‘a’ is 97 and ‘z’ is 122.*\n"
   ]
  },
  {
   "cell_type": "code",
   "execution_count": 8,
   "metadata": {
    "colab": {},
    "colab_type": "code",
    "id": "Hyvy8WNNU1yx"
   },
   "outputs": [
    {
     "name": "stdout",
     "output_type": "stream",
     "text": [
      "u\n",
      "i\n",
      "f\n",
      "!\n",
      "d\n",
      "p\n",
      "x\n"
     ]
    }
   ],
   "source": [
    "Enter='the cow'\n",
    "for i in range(len(Enter)):\n",
    "    myChr = ord(Enter[i])\n",
    "    if myChr == 97:\n",
    "        print('a')\n",
    "    else:\n",
    "        print(chr(myChr+1))"
   ]
  },
  {
   "cell_type": "markdown",
   "metadata": {
    "colab_type": "text",
    "id": "AWQJrJW3U1y3"
   },
   "source": [
    "### Task6\n",
    "Given a string, create a new string with all the consecutive duplicates removed. \n",
    "\n",
    "**Example:**\\\n",
    "Input:\\\n",
    "AAABBBBCDDBBECE\\\n",
    "Output:\\\n",
    "ABCDBECE\n",
    "\n",
    "*Hint: You need to make a new string to store your answer. Check whether the current character and the next character are the same, then add that character to the answer.*\n",
    "\n"
   ]
  },
  {
   "cell_type": "code",
   "execution_count": 7,
   "metadata": {
    "colab": {},
    "colab_type": "code",
    "id": "oNv_JNgUU1y4"
   },
   "outputs": [
    {
     "name": "stdout",
     "output_type": "stream",
     "text": [
      "Enter the words:AAABBBBCDDBBECE\n",
      "ABCDBECE\n"
     ]
    }
   ],
   "source": [
    "App1= input('Enter the words:')\n",
    "App2=''\n",
    "for i in range(0,len(App1)):\n",
    "    if i<len(App1)-1:\n",
    "        if App1[i] == App1[i+1]:\n",
    "            continue\n",
    "        else:\n",
    "            App2=App2+App1[i]\n",
    "    if i == len(App1)-1:\n",
    "        App2=App2+App1[i]\n",
    "print(App2)"
   ]
  },
  {
   "cell_type": "markdown",
   "metadata": {
    "colab_type": "text",
    "id": "mwnPD6m-U1y9"
   },
   "source": [
    "## Part 2: List\n"
   ]
  },
  {
   "cell_type": "markdown",
   "metadata": {
    "colab_type": "text",
    "id": "lPoDvm8YU1y9"
   },
   "source": [
    "### Task 7\n",
    "Write a Python program that reads 10 numbers from the user. After reading each number, print all the numbers that have been entered so far. \n",
    "\n",
    "**Example:**\\\n",
    "After the user enters 3, prints “So far in the list: [3]”\\\n",
    "After the user enters 5, prints “So far in the list: [3, 5]”\\\n",
    "After the user enters 34, prints “So far in the list: [3, 5, 34]”\n"
   ]
  },
  {
   "cell_type": "code",
   "execution_count": 6,
   "metadata": {
    "colab": {},
    "colab_type": "code",
    "id": "z26BN9B3U1y_"
   },
   "outputs": [
    {
     "name": "stdout",
     "output_type": "stream",
     "text": [
      "Enter the number:1\n",
      "Enter the number:12\n",
      "Enter the number:13\n",
      "Enter the number:14\n",
      "Enter the number:2\n",
      "Enter the number:15\n",
      "Enter the number:16\n",
      "Enter the number:17\n",
      "Enter the number:84\n",
      "Enter the number:24\n",
      "SO far in the list-['1', '12', '13', '14', '2', '15', '16', '17', '84', '24']\n"
     ]
    }
   ],
   "source": [
    "list=[]\n",
    "for A in range(10):\n",
    "    num=input('Enter the number:')\n",
    "    list.append(num)\n",
    "print('SO far in the list-',end='')\n",
    "print(list)"
   ]
  },
  {
   "cell_type": "markdown",
   "metadata": {
    "colab_type": "text",
    "id": "ZrjtT-I_U1zD"
   },
   "source": [
    "### Task 8\n",
    "Assume, you have been given a list.\n",
    "\n",
    "a_list =  [10, 20, 24, 25, 26, 35, 70]\n",
    "\n",
    "Write a Python program that creates a new list excluding the first and last two elements of the given list and prints the new list. \n",
    "\n",
    "Output: [24, 25, 26]\n",
    "\n",
    "\n",
    "*Hint:You need to use list slicing.*\n"
   ]
  },
  {
   "cell_type": "code",
   "execution_count": 5,
   "metadata": {
    "colab": {},
    "colab_type": "code",
    "id": "3r7Ripj7U1zE"
   },
   "outputs": [
    {
     "name": "stdout",
     "output_type": "stream",
     "text": [
      "[24, 25, 26]\n"
     ]
    }
   ],
   "source": [
    "a_list = [10, 20, 24, 25, 26, 35, 70]\n",
    "print(a_list[2:-2])"
   ]
  },
  {
   "cell_type": "markdown",
   "metadata": {
    "colab_type": "text",
    "id": "7a_1pYjfU1zI"
   },
   "source": [
    "### Task 9\n",
    "Assume, you have been given two lists. \n",
    "\n",
    "list_one = [1, 2, 3, 4, 5, 6, 7, 8, 9]\\\n",
    "list_two = [10, 11, 12, -13, -14, -15, -16]\n",
    "\n",
    "Write a Python program that creates a new list with all the even elements of both of the given lists and prints the new list.\n",
    "\n",
    "\n",
    "Output: [2, 4, 6, 8, 10, 12, -14, -16]\n",
    "\n",
    "*Hint: You need to create a third list to store the even elements of the given lists.*\n",
    "\n"
   ]
  },
  {
   "cell_type": "code",
   "execution_count": 4,
   "metadata": {
    "colab": {},
    "colab_type": "code",
    "id": "vToa7yazU1zI"
   },
   "outputs": [
    {
     "name": "stdout",
     "output_type": "stream",
     "text": [
      "[2, 4, 6, 8, 10, 12, -14, -16]\n"
     ]
    }
   ],
   "source": [
    "list_one = [1, 2, 3, 4, 5, 6, 7, 8, 9]\n",
    "list_two = [10, 11, 12, -13, -14, -15, -16]\n",
    "listThree=[]\n",
    "for i in list_one:\n",
    "    if (i%2 == 0):\n",
    "        listThree.append(i)\n",
    "for j in list_two:\n",
    "    if (j%2 == 0):\n",
    "        listThree.append(j)\n",
    "print(listThree)\n"
   ]
  },
  {
   "cell_type": "markdown",
   "metadata": {
    "colab_type": "text",
    "id": "p5c2R-QeU1zO"
   },
   "source": [
    "### Task 10\n",
    "\n",
    "Assume, you have been given two lists.\\\n",
    "list_one = [1, 2 , 3, 2, 4, 5, 5, 7, 99, 200, 303, 70]\\\n",
    "list_two = [1, 1, 2, 3, 3, 3, 4, 5, 200, 500, -5]\n",
    "\n",
    "Write a Python program that creates a new list with all the unique elements of both the given lists. \n",
    "<font color='red'> **You need to make sure that no duplicates are in the result list**</font> and then finally print the result list.\n",
    "\n",
    "Output: \n",
    "[1, 2, 4, 5, 7, 99, 200, 303, 70, 3, 500, -5]\n",
    "\n",
    "*Hint:You need to create a third list to store the results. Use membership operators (in, not in) to make sure no duplicates are added.*\n",
    "\n"
   ]
  },
  {
   "cell_type": "code",
   "execution_count": 3,
   "metadata": {
    "colab": {},
    "colab_type": "code",
    "id": "EUbQbz5hU1zP"
   },
   "outputs": [
    {
     "name": "stdout",
     "output_type": "stream",
     "text": [
      "[1, 2, 3, 4, 5, 7, 99, 200, 303, 70, 500, -5]\n"
     ]
    }
   ],
   "source": [
    "listOne = [1, 2 , 3, 2, 4, 5, 5, 7, 99, 200, 303, 70]\n",
    "listTwo = [1, 1, 2, 3, 3, 3, 4, 5, 200, 500, -5]\n",
    "listThree=[]\n",
    "for i in listOne:\n",
    "    if (i not in listThree):\n",
    "        listThree.append(i)\n",
    "for j in listTwo:\n",
    "    if(j not in listThree):\n",
    "        listThree.append(j)\n",
    "print(listThree)"
   ]
  },
  {
   "cell_type": "markdown",
   "metadata": {
    "colab_type": "text",
    "id": "wfcSytFVU1zU"
   },
   "source": [
    "### Task 11\n",
    "\n",
    "Write a Python program that reads 5 numbers into a list and prints the largest number and its location on the list. <font color='red'>[You are not allowed to use the max() function here]</font>\n",
    "\n",
    "**Example:**\\\n",
    "Input: 7, 13, 2, 10, 6\\\n",
    "Output:\\\n",
    "“list: [7, 13, 2, 10, 6]”\\\n",
    "“Largest number 13 was found at location 1”.\n",
    "\n",
    "*Hint: Assume, the first input to be the largest value initially and the location of first input which is 0 to be the initial value of the largest value’s location.\n",
    "You need to be careful while printing the output. Depending on your code might need data conversion.*\n"
   ]
  },
  {
   "cell_type": "code",
   "execution_count": 1,
   "metadata": {
    "colab": {},
    "colab_type": "code",
    "id": "kXbEh1t3U1zV"
   },
   "outputs": [
    {
     "name": "stdout",
     "output_type": "stream",
     "text": [
      "Enter the number:7\n",
      "Enter the number:13\n",
      "Enter the number:2\n",
      "Enter the number:10\n",
      "Enter the number:6\n",
      "[7, 13, 2, 10, 6]\n",
      "Largest number was found13atlocation1\n"
     ]
    }
   ],
   "source": [
    "list=[]\n",
    "for i in range(5):\n",
    "    i=input('Enter the number:')\n",
    "    list.append(int(i))\n",
    "largest=list[0]\n",
    "count=0\n",
    "for j in list:\n",
    "    if(j>largest):\n",
    "        largest=j\n",
    "        v=count\n",
    "    else:\n",
    "        count=count+1\n",
    "print(list)\n",
    "print('Largest number was found'+str(largest)+'at'+'location'+str(v))\n"
   ]
  },
  {
   "cell_type": "markdown",
   "metadata": {
    "colab_type": "text",
    "id": "lvSiLaobU1zY"
   },
   "source": [
    "### Task 12\n",
    "\n",
    "Write a Python program that reads 5 numbers into a list and prints the smallest and largest number and their location in the list. <font color='red'>[You are not allowed to use the max(), min(), sort(), sorted() function here]</font>\n",
    "\n",
    "**Example:**\\\n",
    "If the user enters 7, 13, -5, 10, 6 then your program should print\\\n",
    "“list: [7, 13, -5, 10, 6]”\\\n",
    "“Smallest number -5 was found at location 2”.\\\n",
    "“Largest number 13 was found at location 1”.\n",
    "\n",
    "*Hint: Assume, the first input to be the largest value and the location of the first input which is 0 to be the initial value of the largest value’s location. Similarly, assume the first input to be the smallest value and the location of the first input which is 0 to be the initial value of the smallest value’s location.\n",
    "You need to be careful while printing the output. Depending on your code might need data conversion.*\n"
   ]
  },
  {
   "cell_type": "code",
   "execution_count": 2,
   "metadata": {
    "colab": {},
    "colab_type": "code",
    "id": "yiS5TWSDU1zY"
   },
   "outputs": [
    {
     "name": "stdout",
     "output_type": "stream",
     "text": [
      "Enter the number:7\n",
      "Enter the number:13\n",
      "Enter the number:-5\n",
      "Enter the number:10\n",
      "Enter the number:6\n",
      "[7, 13, -5, 10, 6]\n",
      "Smallest number-5was found at location2\n",
      "Largest number13was found at location1\n"
     ]
    }
   ],
   "source": [
    "list=[]\n",
    "for i in range(5):\n",
    "    i=input('Enter the number:')\n",
    "    list.append(int(i))\n",
    "largest=list[0]\n",
    "smallest=list[0]\n",
    "count=0\n",
    "for j in list:\n",
    "    if(j>largest):\n",
    "        largest=j\n",
    "        v=count\n",
    "    else:\n",
    "        count=count+1\n",
    "count1=0\n",
    "for j in list:\n",
    "    if(j<smallest):\n",
    "        smallest=j\n",
    "        w=count1\n",
    "    else:\n",
    "        count1=count1+1\n",
    "\n",
    "print(list)\n",
    "print('Smallest number'+str(smallest)+'was found at location'+str(w))\n",
    "\n",
    "print('Largest number'+str(largest)+'was found at location'+str(v))\n",
    "\n",
    "\n",
    "\n"
   ]
  }
 ],
 "metadata": {
  "colab": {
   "name": "CSE110 Assignment03.ipynb",
   "provenance": []
  },
  "kernelspec": {
   "display_name": "Python 3",
   "language": "python",
   "name": "python3"
  },
  "language_info": {
   "codemirror_mode": {
    "name": "ipython",
    "version": 3
   },
   "file_extension": ".py",
   "mimetype": "text/x-python",
   "name": "python",
   "nbconvert_exporter": "python",
   "pygments_lexer": "ipython3",
   "version": "3.7.6"
  }
 },
 "nbformat": 4,
 "nbformat_minor": 1
}
