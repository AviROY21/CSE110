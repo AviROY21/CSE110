{
 "cells": [
  {
   "cell_type": "markdown",
   "metadata": {
    "colab_type": "text",
    "id": "Kwu8wHqYjmrV"
   },
   "source": [
    "# SUMMER 2020\n",
    "\n",
    "# CSE110 MOCK MID\n",
    "**<font color='red'>[MUST MAINTAIN VARIABLE NAMING CONVENTIONS FOR ALL THE TASKS]</font>**\n",
    "\n",
    "**<font color='red'>[Writing comments(explanatory sentences) in any of the code is completely optional]</font>**\n"
   ]
  },
  {
   "cell_type": "markdown",
   "metadata": {
    "colab_type": "text",
    "id": "0k2FTLNHiV6N"
   },
   "source": [
    "# Task 01\n",
    "Write a python code that will take the power level (**in inetgers**) of an Avenger's member and then print the message accordingly.\n",
    "\n",
    "\n",
    "*   If the power is between 20 and 30 inclusive, your program should print **\"Iron Man! No special powers(Weak).\"**\n",
    "\n",
    "*   If the power is between 31 and 50 inclusive, your program should print **\"Spiderman! Has special Spidey sense\"**\n",
    "\n",
    "*   If the power is between 51 and 70 inclusive, your program should print **\"Thor! The strong avenger.\"**\n",
    "\n",
    "*   If the power is between 71 and 100 inclusive, your program should print **\"Hulk! The strongest avenger.\"**\n",
    "\n",
    "*   For all other input your program should print **\"Invalid power input\"**.\n",
    "\n",
    "\n",
    " ================================\n",
    "\n",
    "**Sample input 1:**\\\n",
    "16\n",
    "\n",
    "**Sample output 1:**\\\n",
    "Invalid power input\n",
    "\n",
    " ================================\n",
    "\n",
    "**Sample input 2:**\\\n",
    "52\n",
    "\n",
    "**Sample output 2:**\\\n",
    "Thor! The strong avenger."
   ]
  },
  {
   "cell_type": "markdown",
   "metadata": {
    "colab_type": "text",
    "id": "DTyavu6ijiy_"
   },
   "source": []
  },
  {
   "cell_type": "code",
   "execution_count": 2,
   "metadata": {
    "colab": {},
    "colab_type": "code",
    "id": "-uTlQu1iiV6P"
   },
   "outputs": [
    {
     "name": "stdout",
     "output_type": "stream",
     "text": [
      "100\n",
      "Hulk! The strongest avenger.\n"
     ]
    }
   ],
   "source": [
    "powerLevel = int(input())\n",
    "if powerLevel >=20 and powerLevel<30:\n",
    "    print(\"Iron Man! No special powers(Weak).\")\n",
    "elif powerLevel >=31 and powerLevel <=50:\n",
    "    print(\"Spiderman! Has special Spidey sense\")\n",
    "elif powerLevel >= 51 and powerLevel <=70:\n",
    "    print(\"Thor! The strong avenger.\")\n",
    "elif powerLevel >=71 and powerLevel<=100:\n",
    "    print(\"Hulk! The strongest avenger.\")\n",
    "else:\n",
    "    print(\"Invalid power input\")"
   ]
  },
  {
   "cell_type": "markdown",
   "metadata": {
    "colab_type": "text",
    "id": "0Ma4m1DkiV6X"
   },
   "source": [
    "# Task 02\n",
    "Take an integer number from the user and then print the **smallest digit** of that number.\n",
    "\n",
    "<font color='red'>[You are not allowed to use the max(), min(), sort(), sorted() functions here]</font>\n",
    "\n",
    "**Hint :**\\\n",
    "You may assume that the input number is a non negative number.\n",
    "\n",
    "\n",
    " ================================\n",
    "\n",
    "**Sample input 1:**\\\n",
    "4235\\\n",
    "Sample output 1:\\\n",
    "2\n",
    "\n",
    "*Explaination: 2 is the smallest digit in 4235*\n",
    " \n",
    "\n",
    "  ================================\n",
    "\n",
    "**Sample input 2:**\\\n",
    "70301\\\n",
    "Sample output 2:\\\n",
    "0\n",
    "\n",
    "*Explaination: 0 is the smallest digit in 70301*\n",
    "\n",
    "\n"
   ]
  },
  {
   "cell_type": "code",
   "execution_count": 3,
   "metadata": {
    "colab": {},
    "colab_type": "code",
    "id": "Hc39rI86iV6b"
   },
   "outputs": [
    {
     "name": "stdout",
     "output_type": "stream",
     "text": [
      "70301\n",
      "0 is the smallest digit\n"
     ]
    }
   ],
   "source": [
    "num=int(input())\n",
    "minimum =999999999999\n",
    "while num !=0:\n",
    "    digit = num %10\n",
    "    num=num//10\n",
    "    if minimum>digit:\n",
    "        minimum=digit\n",
    "print(minimum,'is the smallest digit')"
   ]
  },
  {
   "cell_type": "markdown",
   "metadata": {
    "colab_type": "text",
    "id": "3yiKRH7liV6g"
   },
   "source": [
    "# Task 03\n",
    "Write the python code that takes a String from the user and print all the **uppercase letters** of that string. \n",
    "\n",
    "**Hint :**\\\n",
    "You might need to use ASCII values for checking upper cases and lower cases.\n",
    "\n",
    " ================================\n",
    " \n",
    "**Sample input 1:**\\\n",
    "I Want To go to the UNIVERSITY\n",
    "\n",
    "**Sample output 1**:\n",
    "IWTUNIVERSITY\n",
    "\n",
    "\n",
    "\n",
    "=================================\n",
    "\n",
    " \n",
    "**Sample input 2:**\\\n",
    "CSE110 is greEAT\n",
    "\n",
    "\n",
    "**Sample output 2:**\\\n",
    "CSEEAT"
   ]
  },
  {
   "cell_type": "code",
   "execution_count": 1,
   "metadata": {
    "colab": {},
    "colab_type": "code",
    "id": "cXSSmP0uiV6h"
   },
   "outputs": [
    {
     "name": "stdout",
     "output_type": "stream",
     "text": [
      "CSEEAT"
     ]
    }
   ],
   "source": [
    "Sentence='CSE110 is  greEAT'\n",
    "\n",
    "for i in Sentence:\n",
    "    new = ord(i)\n",
    "    if new > 60 and new <91:\n",
    "        print(i,end='')"
   ]
  }
 ],
 "metadata": {
  "colab": {
   "name": "cse110 mock mid [set 2].ipynb",
   "provenance": []
  },
  "kernelspec": {
   "display_name": "Python 3",
   "language": "python",
   "name": "python3"
  },
  "language_info": {
   "codemirror_mode": {
    "name": "ipython",
    "version": 3
   },
   "file_extension": ".py",
   "mimetype": "text/x-python",
   "name": "python",
   "nbconvert_exporter": "python",
   "pygments_lexer": "ipython3",
   "version": "3.7.6"
  }
 },
 "nbformat": 4,
 "nbformat_minor": 1
}
