{
 "cells": [
  {
   "cell_type": "markdown",
   "metadata": {
    "colab_type": "text",
    "id": "FHoSAZwz-x9Y"
   },
   "source": [
    "# SUMMER 2020\n",
    "\n",
    "# CSE110 FINAL EXAM\n",
    "**<font color='red'>[MUST MAINTAIN VARIABLE NAMING CONVENTIONS FOR ALL THE TASKS]</font>**\n",
    "\n",
    "**<font color='red'>[Writing comments(explanatory sentences) in any of the code is completely optional]</font>**"
   ]
  },
  {
   "cell_type": "markdown",
   "metadata": {
    "colab_type": "text",
    "id": "y1OxALe74ONI"
   },
   "source": [
    "# Task 01\n",
    "\n",
    "Take an input from the user, N,  and that input signifies the number of inputs to be taken further from the user. Then take N number of integer inputs from the user. Then you have to calculate the following of these from the N integer inputs.\n",
    "\n",
    "<font color='red'> [You are not allowed to use the sum(), max(), min(), mean() functions]</font>\n",
    "\n",
    "<font color='red'> [You are allowed to use the count() function]</font>\n",
    "\n",
    "* Range (Highest Value - Lowest Value)\n",
    "* Mean (Sum of all values/Number of Values)\n",
    "* Mode (Highest occurring number in the N integer inputs )\n",
    "\n",
    "\n",
    "===========================================================\n",
    "\n",
    "**Sample Input 1 :**\\\n",
    "5\\\n",
    "1 2 2 3 4 \n",
    "\n",
    "**Sample Output**\\\n",
    "Range = 3 \n",
    "\n",
    "Mean = 2.4\n",
    "\n",
    "Mode = 2\n",
    "\n",
    "**Explanation:** \n",
    "Here, the maximum number is 4, minimum number is 1. Range = max-min=4-1=3. Mean = (sum of all the numbers)/total count of numbers = (1+2+2+3+4)/5 = 12/5 = 2.4. Lastly, 2 has occured maximum of 2 times. Hence, the mode is 2.\n",
    "\n",
    "\n",
    "=============================================================\n",
    "\n",
    "\n",
    "\n",
    "**Sample Input 1 :**\\\n",
    "2\\\n",
    "1\n",
    "1 \n",
    "\n",
    "**Sample Output**\\\n",
    "Range = 0\n",
    "\n",
    "Mean = 1.0\n",
    "\n",
    "Mode = 2\n",
    "\n",
    "**Explanation:** \n",
    "Here, the maximum number is 1, minimum number is 1. Range = max-min=1-1=0. Mean = (sum of all the numbers)/total count of numbers = (2)/2 = 1.0 . Lastly, 1 has occured maximum of 2 times. Hence, the mode is 2.\n",
    "\n",
    "\n",
    "\n",
    "\n",
    "\n",
    "\n",
    "\n"
   ]
  },
  {
   "cell_type": "code",
   "execution_count": 3,
   "metadata": {
    "colab": {},
    "colab_type": "code",
    "id": "3MZdDln-7ngl"
   },
   "outputs": [
    {
     "name": "stdout",
     "output_type": "stream",
     "text": [
      "Enter the quantity:5\n",
      "Enter a number-1\n",
      "Enter a number-2\n",
      "Enter a number-2\n",
      "Enter a number-3\n",
      "Enter a number-4\n",
      "Mean 2.4\n",
      "Range 3\n"
     ]
    }
   ],
   "source": [
    "n=int(input('Enter the quantity:'))\n",
    "num=int(input('Enter a number-'))\n",
    "max=num\n",
    "min=num\n",
    "sum=num\n",
    "for x in range(1,n):\n",
    "    num=int(input('Enter a number-'))\n",
    "    if num>max:\n",
    "        max=num\n",
    "    if num<min:\n",
    "        min=num\n",
    "    sum=sum+num\n",
    "mean=sum/n\n",
    "Range=max-min\n",
    "print('Mean',mean)\n",
    "print('Range',Range)\n"
   ]
  },
  {
   "cell_type": "markdown",
   "metadata": {
    "colab_type": "text",
    "id": "VOjcZp3h6N7Z"
   },
   "source": [
    "# Task 02\n",
    "\n",
    "Write a Python program that takes a string as an input from the user. Then, counts the sum of the frequency of only three characters (‘C’, ‘S’, ‘E’) and counts the sum of the frequency all the characters excluding 'C', 'S', 'E', and any white spaces. Then prints the ratio of these two sums. \\\n",
    "<font color='red'> [You are not allowed to use the count() function]</font>\n",
    "\n",
    "\n",
    "*Hint: The case is ignored (P and p are considered the same).* \n",
    "\n",
    "\n",
    "===========================================================\n",
    "\n",
    "**Example1:**\n",
    "\n",
    "**Input:**\\\n",
    "\"This is my CSE110 final exam\"\n",
    "\n",
    "**Output:**\\\n",
    "The sum of the frequency of 'C', 'S', 'E': 6\\\n",
    "Letters excluding 'C', 'S', 'E' and space is: 17\\\n",
    "The ratio is: 2.8333333333333335\n",
    "\n",
    "**Explanation:** \\\n",
    "Here in the input string, ‘c’ has appeared 1 times, ‘e’ has appeared 2 times and ‘s’ has appeared 3 times. So, the sum of the frequency of 'C', 'S', 'E': 1+2+3= 6. Letters excluding 'C','S','E', and space are: 17.\\\n",
    "So the ratio is (sum of letters excluding 'C','S','E' and space)/( sum of the frequency of 'C','S','E')= 17/6= 2.8333333333333335\n",
    "\n",
    "==============================================================================\n",
    "\n",
    "**Example2:** \\\n",
    "Input:   \"There is no courage without the fear.\"\n",
    "\n",
    "**Output:** \\\n",
    "The sum of the frequency of 'C', 'S', 'E': 7\\\n",
    "Letters excluding 'C', 'S', 'E' and space is: 24\\\n",
    "The ratio is: 3.4285714285714284\n",
    "\n",
    "**Explanation:** \\\n",
    "Here in the input string, ‘c’ has appeared 1 time, ‘e’ has appeared 5 times and ‘s’ has appeared 1 time. So, the sum of the frequency of 'C', 'S', 'E': 1+5+1=7. Letters excluding 'C','S','E', and space are: 24. So the ratio is (sum of letters excluding 'C','S','E' and space)/( sum of the frequency of 'C','S','E')= 24/7= 3.4285714285714284\n",
    "\n"
   ]
  },
  {
   "cell_type": "code",
   "execution_count": null,
   "metadata": {
    "colab": {},
    "colab_type": "code",
    "id": "9uJmC_di7mql"
   },
   "outputs": [],
   "source": [
    "def function_name(string):\n",
    "    c={'UpperCase':0,'LowerCase':0}\n",
    "    for calculate in string:\n",
    "        if calculate.isupper():\n",
    "            c['UpperCase']+=1\n",
    "\n",
    "        else:\n",
    "            pass\n",
    "\n",
    "    print('No. of Uppercase characters:',c['UpperCase'])\n",
    "\n",
    "\n",
    "function_name(string=\"\")"
   ]
  },
  {
   "cell_type": "markdown",
   "metadata": {
    "colab_type": "text",
    "id": "punAKiNF87E8"
   },
   "source": [
    "# Task 03\n",
    "\n",
    "\n",
    "Write a function which takes in a dictionary as an input. The keys will be the name of the courses that you had taken in the previous semester. It can be any number of courses but it will always be more than 3. And the corresponding values will be the total marks that you had got out of 100. The values can never be negative. Now calculate the average mark that you had achieved in the last semester. Your function will **return** the string “Highest distinction” or “High Distinction” or “No Distinction” based on the calculated average mark. What string will be returned will be based on the following criteria:\n",
    "\n",
    "* Condition 1 : If  80 <= average marks <= 100 , return \"Highest Distinction\"\n",
    "* Condition 2 : If  50 <= average marks <= 79 , return \"High Distinction\"\n",
    "* Condition 3 : If  0 <= average marks <= 49 , return \"No Distinction\"\n",
    "\n",
    "\n",
    "===========================================================\n",
    "\n",
    "\n",
    "**Example1:** \n",
    "\n",
    "**Input1:**<br>\n",
    "{'Bangla' : 90, 'English' : 90, 'Mathematics' : 94, 'Science' : 96 }\n",
    "\n",
    "**Function Call1:**\n",
    "Avg_Marks( {'Bangla' : 90, 'English' : 90, 'Mathematics' : 96, 'Science' : 96 } )\n",
    "\n",
    "**Output1:** \\\n",
    "Highest Distinction\n",
    "\n",
    "**Explanation1:** <br> \n",
    "Here, you had taken 4 courses in the previous semester and they are Bangla, English, Mathematics and Science. Out of a total 100 in each subject, you scored 90 in Bangla, 90 in English, 96 in Mathematics and 96 in Science. So the average mark of these 4 courses is 93. As the average mark satisfies Condition 1, that is the average is greater than or equal to 80 and less than or equal to 100, so the function will return the string \"Highest Distinction\".     \n",
    "\n",
    "===========================================================\n",
    "\n",
    "**Example2:** \n",
    "\n",
    "**Input2:**<br>\n",
    "{'Bangla' : 20, 'English' : 30, 'Mathematics' : 50, 'Science' : 30 }\n",
    "\n",
    "**Function Call1:**   \n",
    "Avg_Marks( {'Bangla' : 20, 'English' : 30, 'Mathematics' : 50, 'Science' : 30 } )\n",
    "\n",
    "**Output2:** \\\n",
    "\"No Distinction\"\n",
    "\n",
    "**Explanation2:** <br> \n",
    "Here suppose you had taken 4 courses in the previous semester and they are Bangla, English, Mathematics and Science. Out of a total 100 in each subject, you scored 20 in Bangla, 30 in English, 50 in Mathematics and 30 in Science. So the average mark of these 4 courses is 32.5. As the average mark satisfies Condition 3, so the function will return the string \"No Distinction\". \n",
    "\n",
    "\n",
    "===========================================================\n",
    "\n",
    "**Hint:** Average = sum of all the course marks / total number of courses"
   ]
  },
  {
   "cell_type": "code",
   "execution_count": 1,
   "metadata": {
    "colab": {},
    "colab_type": "code",
    "id": "McGQ17wl4Q1-"
   },
   "outputs": [
    {
     "name": "stdout",
     "output_type": "stream",
     "text": [
      "Highest Distinction\n"
     ]
    }
   ],
   "source": [
    "\n",
    "def function(dict):\n",
    "    sum = 0\n",
    "    count = 0\n",
    "    for x in dict.values():\n",
    "        sum = sum + x\n",
    "        count = count + 1\n",
    "    average = sum /count\n",
    "    if average >= 80 and  average<= 100:\n",
    "        print(\"Highest Distinction\")\n",
    "    elif 50 <= average and  average<= 79:\n",
    "        print(\"High Distinction\")\n",
    "    elif 0 <= average and  average<= 49:\n",
    "        print(\"No Distinction\")\n",
    "function({'Bangla' : 90, 'English' : 90, 'Mathematics' : 94, 'Science' : 96 })\n",
    "\n"
   ]
  }
 ],
 "metadata": {
  "colab": {
   "collapsed_sections": [],
   "name": "SET QKI.ipynb",
   "provenance": []
  },
  "kernelspec": {
   "display_name": "Python 3",
   "language": "python",
   "name": "python3"
  },
  "language_info": {
   "codemirror_mode": {
    "name": "ipython",
    "version": 3
   },
   "file_extension": ".py",
   "mimetype": "text/x-python",
   "name": "python",
   "nbconvert_exporter": "python",
   "pygments_lexer": "ipython3",
   "version": "3.7.6"
  }
 },
 "nbformat": 4,
 "nbformat_minor": 1
}
