{
 "cells": [
  {
   "cell_type": "markdown",
   "metadata": {
    "colab_type": "text",
    "id": "ZXvFDb3VLf5p"
   },
   "source": [
    "# CSE110 Assignment 6\n",
    "This assignment is to guide you to solve everything you have learned so far by implementing Exceptions in Python. \n",
    "\n",
    "**<font color='red'>[MUST MAINTAIN VARIABLE NAMING CONVENTIONS FOR ALL THE TASKS]</font>**\n",
    "\n",
    "## Write the Python code of the following problems:\n"
   ]
  },
  {
   "cell_type": "markdown",
   "metadata": {
    "colab_type": "text",
    "id": "tZow-v3MLoLE"
   },
   "source": [
    "### Task 1\n",
    "Given a list named my_list.\n",
    "my_list=[10,20,30,40,60,100,2,5]\n",
    "\n",
    "Write a python program that takes the position as an input from the user and prints the element of that position from the list. \n",
    "\n",
    "If the user’s input position is not in the range, return an exception stating “Index out of range”.\n",
    "\n",
    "Make sure your program always prints “Program ended” at the end, no matter what happens.\n",
    "\n",
    "Hint: Use finally block\n",
    "\n",
    "**Example 1:** \\\n",
    "**Input:**\\\n",
    "1\\\n",
    "**Output:**\\\n",
    "20\\\n",
    "Program ended\n",
    "\n",
    "=============================\n",
    "\n",
    "**Example 2:** \\\n",
    "**Input:**\\\n",
    "10\\\n",
    "**Output:**\\\n",
    "Index out of range.\\\n",
    "Program ended\n"
   ]
  },
  {
   "cell_type": "code",
   "execution_count": 1,
   "metadata": {
    "colab": {},
    "colab_type": "code",
    "id": "c9yKuS5kLdDO"
   },
   "outputs": [
    {
     "name": "stdout",
     "output_type": "stream",
     "text": [
      "Enter a number :10\n",
      "Index out of range\n",
      "Program ended\n"
     ]
    }
   ],
   "source": [
    "my_list=[10,20,30,40,60,100,2,5]\n",
    "\n",
    "position=int(input('Enter a number :'))\n",
    "\n",
    "try:\n",
    "    output=my_list[position]\n",
    "    print(output)\n",
    "\n",
    "except Exception:\n",
    "    print('Index out of range')\n",
    "finally:\n",
    "    print('Program ended')"
   ]
  },
  {
   "cell_type": "markdown",
   "metadata": {
    "colab_type": "text",
    "id": "gD4MMyO_Mtw4"
   },
   "source": [
    "### Task 2\n",
    "\n",
    "Suppose you have a dictionary named my_dictionary containing the name of some groceries and their prices.\\\n",
    "my_dictionary={“Potato”:12, “Onion”:16, “Ginger”:15, “Garlic”:12, “Tomato”:15}\n",
    "\n",
    "Now write a python program that takes the grocerie names as input from the users and shows the total price of the groceries.\n",
    "\n",
    "Some exceptions to handle:\n",
    "* Handle the exception when the given key is not present in the dictionary.\n",
    "* Handle the exception when the summation variable is not initialized.\n",
    "\n",
    "**Example 1:** \\\n",
    "**Input:**\\\n",
    "Potato,Onion,Ginger\\\n",
    "**Output:**\\\n",
    "43\n",
    "\n",
    "=============================\n",
    "\n",
    "**Example 2:** \\\n",
    "**Input:**\\\n",
    "Potato,Onion,Ginger,Beef\\\n",
    "**Output:**\\\n",
    "Some groceries are not available in the dictionary.\n"
   ]
  },
  {
   "cell_type": "code",
   "execution_count": 2,
   "metadata": {
    "colab": {},
    "colab_type": "code",
    "id": "15umlUXTNe5N"
   },
   "outputs": [
    {
     "name": "stdout",
     "output_type": "stream",
     "text": [
      "Potato,Onion,Ginger\n",
      "43\n"
     ]
    }
   ],
   "source": [
    "my_dictionary = {\"Potato\": 12,\"Onion\": 16,\"Ginger\": 15,\"Garlic\": 12,\"Tomato\": 15}\n",
    "userInput=input()\n",
    "newItems=userInput.split(',')\n",
    "sum=0\n",
    "try:\n",
    "    for keys in newItems:\n",
    "        sum=sum +my_dictionary[keys]\n",
    "\n",
    "    print(sum)\n",
    "except Exception:\n",
    "    print('Some groceries are not available in the dictionary. ')\n"
   ]
  },
  {
   "cell_type": "markdown",
   "metadata": {
    "colab_type": "text",
    "id": "l5SgF6kTN7vY"
   },
   "source": [
    "### Task 3\n",
    "Write a python program that takes two lists as input from the user, multiplies the index wise elements of the two lists and adds it to a new variable. While doing the program you should handle the following exceptions:\n",
    "* Return an exception when the new variable is not declared stating “The new variable is not declared”.\n",
    "* Return an exception if an element in a list is not a number stating “The list has some non number values”.\n",
    "* Return an exception if there is an index out of bound stating “Index out of bound”.\n",
    "\n",
    "**Example 1:** \\\n",
    "**Input:**\\\n",
    "list_one = [1, a, 2, 4]\\\n",
    "List_two =[5, 6, 7, 8]\\\n",
    "**Output:**\\\n",
    "The list has some non number values\n",
    "\n",
    "=================\n",
    "\n",
    "**Example 2:** \\\n",
    "**Input:**\\\n",
    "list_one=[1, 2, 3, 4, 5]\\\n",
    "list_two=[1, 2, 3, 4]\\\n",
    "**Output:**\\\n",
    "Index out of bound\n",
    "\n",
    "=================\n",
    "\n",
    "**Example 3:** \\\n",
    "**Input:**\\\n",
    "list_one=[1,2,3,4]\\\n",
    "list_two=[5,6,7,8]\\\n",
    "**Output:**\\\n",
    "70\n",
    "\n",
    "\n"
   ]
  },
  {
   "cell_type": "code",
   "execution_count": 6,
   "metadata": {
    "colab": {},
    "colab_type": "code",
    "id": "oFpEZFRhOlvV"
   },
   "outputs": [
    {
     "name": "stdout",
     "output_type": "stream",
     "text": [
      "1,2,3,4\n",
      "5,6,7,8\n",
      "70\n"
     ]
    }
   ],
   "source": [
    "Input1 = input()\n",
    "Input2 = input()\n",
    "list_one=Input1.split(\",\")\n",
    "list_two= Input2.split(\",\")\n",
    "sum = 0\n",
    "if len(list_one) >= len(list_two):\n",
    "    newList = len(list_one)\n",
    "else:\n",
    "    newList = len(list_two)\n",
    "try:\n",
    "    for multiply in range(newList):\n",
    "        index1 = int(list_one[multiply])\n",
    "        index2 = int(list_two[multiply])\n",
    "        sum = sum + (index1*index2)\n",
    "    print(sum)\n",
    "except IndexError:\n",
    "    print(\"Index out of bound\")\n",
    "except ValueError:\n",
    "    print(\"The list has some non number values\")"
   ]
  },
  {
   "cell_type": "markdown",
   "metadata": {
    "colab_type": "text",
    "id": "iBqIUN-WOnvW"
   },
   "source": [
    "### Task 4\n",
    "Write a python program that will take a string input from the user. Your task is to count the number of vowels and consonants in the string.\n",
    "\n",
    "Using try, if the number of vowels is greater than or equal to the number of consonants than raise a runtime error. Print 'Number of vowels greater/equal to consonants. Please, paraphrase'.\\\n",
    "Otherwise, print 'The sentence will work'. \n",
    "\n",
    "**Note:** a,e,i,o,u are called vowels and all the other 21 english alphabets are consonants.\n",
    "\n",
    "**Example 1:** \\\n",
    "**Input:**\\\n",
    "'his age is 10'\\\n",
    "**Output:**\\\n",
    "Number of vowels is greater/equal. Paraphrase the sentence\n",
    "\n",
    "=================\n",
    "\n",
    "**Example 2:** \\\n",
    "**Input:**\\\n",
    "'he is 10 years old'\\\n",
    "**Output:**\\\n",
    "The sentence will work"
   ]
  },
  {
   "cell_type": "code",
   "execution_count": 7,
   "metadata": {
    "colab": {},
    "colab_type": "code",
    "id": "-4kg2W2EPwVo"
   },
   "outputs": [
    {
     "name": "stdout",
     "output_type": "stream",
     "text": [
      "his age is 10\n",
      "No of vowels grater/equal.Paraphrase the sentence\n"
     ]
    }
   ],
   "source": [
    "string=input()\n",
    "list=[97,101,105,111,117]\n",
    "vowel=0\n",
    "consonant=0\n",
    "try:\n",
    "\n",
    "    for char in string:\n",
    "        if (ord(char)>=97 and ord(char)<=122)or (ord(char)>=65 and ord(char)<=90):\n",
    "\n",
    "            if ord(char) in list:\n",
    "                vowel =vowel +1\n",
    "            else:\n",
    "                consonant=consonant+1\n",
    "    if vowel>= consonant:\n",
    "        print('No of vowels grater/equal.Paraphrase the sentence')\n",
    "\n",
    "except Exception:\n",
    "\n",
    "    print('The sentence will work')"
   ]
  },
  {
   "cell_type": "markdown",
   "metadata": {
    "colab_type": "text",
    "id": "pl4CDeUkPxeM"
   },
   "source": [
    "### Task 5\n",
    "Write a python program that finds the corresponding energy values from a list of frequency values which are taken as input from the user, using the formula, $E=h*f$, where h is a constant of value: 1050\n",
    "\n",
    "Exceptions to handle:\n",
    "* Make sure all elements in the lists are numbers\n",
    "\n",
    "\n",
    "**Example 1:** \\\n",
    "**Input:**\\\n",
    "[$2$,$3$]\\\n",
    "**Output:**\\\n",
    "[$2100$, $3150$]\n",
    "\n",
    "=================\n",
    "\n",
    "**Example 2:** \\\n",
    "**Input:**\\\n",
    "[2,boss]\\\n",
    "**Output:**\\\n",
    "Wrong input type"
   ]
  },
  {
   "cell_type": "code",
   "execution_count": 1,
   "metadata": {
    "colab": {},
    "colab_type": "code",
    "id": "vdYQH9qnQvVo"
   },
   "outputs": [
    {
     "name": "stdout",
     "output_type": "stream",
     "text": [
      "[2100, 3150]\n"
     ]
    }
   ],
   "source": [
    "h=1050\n",
    "list=[]\n",
    "userInput=[2,3]\n",
    "for f in userInput:\n",
    "    E= h*f\n",
    "    list.append(E)\n",
    "print(list)"
   ]
  },
  {
   "cell_type": "markdown",
   "metadata": {
    "colab_type": "text",
    "id": "RdshPzpJRcsD"
   },
   "source": [
    "### Task 6\n",
    "Write a python function that will remove a given character from a sentence based on the starting and ending index of the sentence. In the place of the removed characters, add the count of the number of characters removed so far. For this program, you need to take 4 user inputs.\n",
    "* Sentence\n",
    "* Character to be removed\n",
    "* Starting index (inclusive)\n",
    "* Ending index (inclusive)\n",
    "\n",
    "Few exceptions to catch: \n",
    "* Name Error if a variable is not found. Print ‘Name Error: Variable not defined’\n",
    "* Value Error if the starting index and ending index is not an integer. Print ‘Value Error: Wrong input, please enter an integer value.’\n",
    "* Type Error when adding count in the new sentence. Print ‘Type Error: Cannot add integer value with string.’\n",
    "* Index Error if the starting and ending index is out of range. Print ‘Index Error: Index is outside the range of sentence length.’\n",
    "* For other exceptions, catch Exception. Print ‘Some other error occurred.’\n",
    "\n",
    "If no exception occurred, print the new string using else block. At the end using finally, print ‘The program execution is complete’.\n",
    "\n",
    "**Example 1:** \\\n",
    "**Input:**\\\n",
    "'my python programming book'\\\n",
    "'m'\\\n",
    "2\\\n",
    "20\\\n",
    "**Output:**\\\n",
    "my python progra12ing book\\\n",
    "The program execution is complete\n",
    "\n",
    "=================\n",
    "\n",
    "**Example 2:** \\\n",
    "**Input:**\\\n",
    "'my python programming book'\\\n",
    "'m'\\\n",
    "2.5\\\n",
    "20\\\n",
    "**Output:**\\\n",
    "Value Error: Wrong input, please enter an integer value.\\\n",
    "The program execution is complete\n",
    "\n",
    "=================\n",
    "\n",
    "**Example 3:** \\\n",
    "**Input:**\\\n",
    "'my python programming book'\\\n",
    "'m'\\\n",
    "2\\\n",
    "100\\\n",
    "**Output:**\\\n",
    "Index Error: Index is outside the range of sentence length.\\\n",
    "The program execution is complete\n"
   ]
  },
  {
   "cell_type": "code",
   "execution_count": 4,
   "metadata": {
    "colab": {},
    "colab_type": "code",
    "id": "bcU6dV5BSl7d"
   },
   "outputs": [
    {
     "name": "stdout",
     "output_type": "stream",
     "text": [
      "Enter the sentence-my python programming book\n",
      "Removal character:m\n",
      "Starting index:2\n",
      "Ending index:20\n",
      "my python progra12ing book\n",
      "The program execution is complete\n"
     ]
    }
   ],
   "source": [
    "try:\n",
    "    input1=input('Enter the sentence-')\n",
    "    input2=input('Removal character:')\n",
    "    input3=int(input('Starting index:'))\n",
    "    input4=int(input('Ending index:'))\n",
    "\n",
    "    string1=''\n",
    "    remove_value=0\n",
    "    string1=string1+ input1[0:input3]\n",
    "    for count in range(input3,input4+1):\n",
    "        if input2 != input1[count]:\n",
    "            string1=string1+input1[count]\n",
    "        elif input2 == input1[count]:\n",
    "            remove_value +=1\n",
    "            string1 += str(remove_value)\n",
    "    string1 += input1[input4+1:len(input1)+1]\n",
    "except NameError:\n",
    "    print('Name Error: Variable not defined.')\n",
    "except ValueError:\n",
    "    print('Value Error: Wrong input, please enter an integer value.')\n",
    "except TypeError:\n",
    "    print('Type Error: Cannot add integer value with string')\n",
    "except IndexError:\n",
    "    print('Index Error: Index is outside the range of sentence length.')\n",
    "except Exception:\n",
    "    print('Some other error occurred')\n",
    "else:\n",
    "    print(string1)\n",
    "finally:\n",
    "    print('The program execution is complete')"
   ]
  },
  {
   "cell_type": "markdown",
   "metadata": {
    "colab_type": "text",
    "id": "SjU5ufx8Snv3"
   },
   "source": [
    "### Task 7\n",
    "Read a **file** from the user which contains the  name and salary of employees. Convert that to a dictionary where the key is the name of each employee and value is the salary of that employee. Then find the total cost for the company that it needs to pay through employees’ salary. Print the dictionary and sum if no exception occurs.\n",
    "\n",
    "Exception to handle:\n",
    "* check whether file is actually there\n",
    "* Check whether the salary in each line is a number or not.\n",
    "* Raise error if there are extra numbers or names\n",
    "\n",
    "**Example 1:** \\\n",
    "**Input:**\\\n",
    "Saadat 100\\\n",
    "Farzad 200\\\n",
    "Atef 300\\\n",
    "**Output:**\\\n",
    "dict={Saadat : 100, Farzad : 200, Atef : 300}\\\n",
    "Sum = 600\n",
    "\n",
    "=================\n",
    "\n",
    "**Example 2:** \\\n",
    "**Input:**\\\n",
    "Saadat 100\\\n",
    "Farzad 200\\\n",
    "Atef 300\\\n",
    "John\\\n",
    "**Output:**\\\n",
    "Extra Statement\n"
   ]
  },
  {
   "cell_type": "code",
   "execution_count": 3,
   "metadata": {
    "colab": {},
    "colab_type": "code",
    "id": "SUxJ1iCXUAPg"
   },
   "outputs": [
    {
     "name": "stdout",
     "output_type": "stream",
     "text": [
      "The salary should be number\n"
     ]
    }
   ],
   "source": [
    "try:\n",
    "    file = (open('G:\\\\CSE\\\\HACK\\\\roy1.txt', 'r'))\n",
    "    dict = {}\n",
    "    sum = 0\n",
    "    for key in file:\n",
    "        file_1 = key.split()\n",
    "        name = file_1[0]\n",
    "        salary = file_1[1]\n",
    "        sum = sum + int(salary)\n",
    "        dict[name] = salary\n",
    "    print('dict1=', dict)\n",
    "    print('Summation=', sum)\n",
    "except IndexError:\n",
    "    print('Extra Statement')\n",
    "except ValueError:\n",
    "    print('The salary should be number')\n",
    "except FileNotFoundError:\n",
    "    print('File is not there')\n",
    "\n"
   ]
  },
  {
   "cell_type": "markdown",
   "metadata": {
    "colab_type": "text",
    "id": "GC6Y943uUNHY"
   },
   "source": [
    "### Task 8\n",
    "Imagine Salman Khan is going to the sets of a new movie. He decides to cycle everyday on his way to the sets. For that he uses a distance calculator which finds the distance based on the present day's date, which is asked as an input from the user. You should first take the day and then the month as your inputs.\n",
    "The inputs should be stored in variables named `day` and `month` The distance calculator uses the following formulae to calculate a number which dictates the number of kilometers he must cycle on his way to work.\n",
    "\n",
    "Exceptions to handle:\\\n",
    "-Check for 0 division error exception\\\n",
    "-Type error exception when taking date as input\\\n",
    "-Value error exception, as day can not be greater than 31 and month can not be greater than 12\n",
    "\n",
    "\n",
    "\n",
    "\n",
    "\n",
    "\n",
    "\n",
    "\n",
    "\n",
    "\n",
    "\n",
    "\n",
    "\n",
    "\n",
    "Distance = |if day<10, `5+(day*2)/month`\\\n",
    "&nbsp;&nbsp;&nbsp;&nbsp;&nbsp;&nbsp;&nbsp;&nbsp;&nbsp;&nbsp;&nbsp;&nbsp;&nbsp;&nbsp;&nbsp;&nbsp;&nbsp;&nbsp;&nbsp; |else, `3+(day/month)`\n",
    "\n",
    "\n",
    "**Example 1:** \\\n",
    "**Input:**\\\n",
    "3\\\n",
    "5\\\n",
    "**Output:**\\\n",
    "6.2 kilometres\n",
    "\n",
    "=================\n",
    "\n",
    "**Example 2:** \\\n",
    "**Input:**\\\n",
    "2\\\n",
    "0\\\n",
    "**Output:**\\\n",
    "0 is not a valid month\n",
    "\n",
    "**Example 3:** \\\n",
    "**Input:**\\\n",
    "35\\\n",
    "12\\\n",
    "**Output:**\\\n",
    "35 is not a valid day of any month\n",
    "\n",
    "\n",
    "**Example 4:** \\\n",
    "**Input:**\\\n",
    "Hello\\\n",
    "12\\\n",
    "**Output:**\\\n",
    "Please do not enter any string as input\n",
    "\n",
    "\n",
    "**Example 5:** \\\n",
    "**Input:**\\\n",
    "15\\\n",
    "12\\\n",
    "**Output:**\\\n",
    "4.25 kilometres\n",
    "\n",
    "\n",
    "\n",
    "\n"
   ]
  },
  {
   "cell_type": "code",
   "execution_count": 1,
   "metadata": {
    "colab": {},
    "colab_type": "code",
    "id": "fg9mQUaEWH7a"
   },
   "outputs": [
    {
     "name": "stdout",
     "output_type": "stream",
     "text": [
      "3\n",
      "5\n",
      "6.2 Kilometres\n"
     ]
    }
   ],
   "source": [
    "Distance=1\n",
    "try:\n",
    "    Day=int(input(''))\n",
    "    Month=int(input(''))\n",
    "    if Day<10:\n",
    "        Distance=Distance * (5+((Day*2)/Month))\n",
    "    else:\n",
    "        Distance=Distance *(3+(Day/Month))\n",
    "except ZeroDivisionError:\n",
    "    print('0 is not a valid month')\n",
    "except ValueError:\n",
    "    print('Please do not enter any string as input')\n",
    "if Day >31 or Day<0:\n",
    "    raise ValueError(str(Day)+'is not a valid day of any month')\n",
    "elif Month >12 or Month<0 or Month == 0:\n",
    "    raise ValueError(str(Month)+'is not a valid month')\n",
    "print(Distance,'Kilometres')\n"
   ]
  },
  {
   "cell_type": "markdown",
   "metadata": {
    "colab_type": "text",
    "id": "2Xzq6xJNWvbf"
   },
   "source": [
    "### Task 9\n",
    "Write a python program to make a calculator. The user must input a string consisting of a number, operator and another number separated by white spaces.\n",
    "* If the user’s input does not contain 3 elements, raise an exception error stating “Input does not contain 3 elements/Wrong operator”.\n",
    "* If the user inputs any other values except numbers in first and third position of the input, raise value error exception stating “Input does not contain numbers.” \n",
    "* If the user does not input ‘+’ or ‘-’ or ’/’ or ‘*’ or ‘%’ in second position of the input, again raise an exception stating “Input does not contain 3 elements/Wrong operator”.\n",
    "* In case of division, also handle divide by zero exception.\n",
    "\n",
    "If all the inputs are correct, calculate the result and print the value.\n",
    "\n",
    "**Example 1:** \\\n",
    "**Input:**\\\n",
    "1 + 1 + 1\\\n",
    "**Output:**\\\n",
    "Input does not contain 3 elements/Wrong operator\n",
    "\n",
    "=================\n",
    "\n",
    "**Example 2:** \\\n",
    "**Input:**\\\n",
    "A * B\\\n",
    "**Output:**\\\n",
    "Input does not contain numbers.\n",
    "\n",
    "=================\n",
    "\n",
    "**Example 3:** \\\n",
    "**Input:**\\\n",
    "1 $ 3\\\n",
    "**Output:**\\\n",
    "Input does not contain 3 elements/Wrong operator\n",
    "\n",
    "=================\n",
    "\n",
    "**Example 4:** \\\n",
    "**Input:**\\\n",
    "1 + 1\\\n",
    "**Output:**\\\n",
    "The answer is : 2\n"
   ]
  },
  {
   "cell_type": "code",
   "execution_count": 5,
   "metadata": {
    "colab": {},
    "colab_type": "code",
    "id": "vX2d7DiVXbhc"
   },
   "outputs": [
    {
     "name": "stdout",
     "output_type": "stream",
     "text": [
      "A*B\n",
      "Input does not contain numbers\n"
     ]
    }
   ],
   "source": [
    "calc=input('')\n",
    "\n",
    "calculator=calc.split()\n",
    "\n",
    "try:\n",
    "    firstNumber=int(calculator[0])\n",
    "    operator =calculator[1]\n",
    "    secondNumber=int(calculator[2])\n",
    "    if operator == '+':\n",
    "        output= firstNumber+secondNumber\n",
    "    elif operator == '-':\n",
    "        output=firstNumber-secondNumber\n",
    "    elif operator == '/':\n",
    "        output= firstNumber / secondNumber\n",
    "    elif operator=='*':\n",
    "        output=firstNumber * secondNumber\n",
    "    print(output)\n",
    "except ZeroDivisionError:\n",
    "    print('In division ,second number cannot be zero')\n",
    "except ValueError:\n",
    "    print('Input does not contain numbers')\n",
    "except NameError:\n",
    "    print('Input does not contain 3 elements/wrong operator')\n",
    "\n",
    "except IndexError:\n",
    "    print('Input does not contain r elements/wrong operator')\n",
    "\n",
    "if len(calculator)>3:\n",
    "    raise Exception('Input does not contain 3 elements/wrong operator')\n"
   ]
  }
 ],
 "metadata": {
  "colab": {
   "collapsed_sections": [],
   "name": "CSE110 Assignment06.ipynb",
   "provenance": []
  },
  "kernelspec": {
   "display_name": "Python 3",
   "language": "python",
   "name": "python3"
  },
  "language_info": {
   "codemirror_mode": {
    "name": "ipython",
    "version": 3
   },
   "file_extension": ".py",
   "mimetype": "text/x-python",
   "name": "python",
   "nbconvert_exporter": "python",
   "pygments_lexer": "ipython3",
   "version": "3.7.6"
  }
 },
 "nbformat": 4,
 "nbformat_minor": 1
}
