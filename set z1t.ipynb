{
 "cells": [
  {
   "cell_type": "markdown",
   "metadata": {
    "colab_type": "text",
    "id": "0ZcT5c9CjT8P"
   },
   "source": [
    "# SUMMER 2020\n",
    "\n",
    "# CSE110 MID\n",
    "**<font color='red'>[MUST MAINTAIN VARIABLE NAMING CONVENTIONS FOR ALL THE TASKS]</font>**\n",
    "\n",
    "**<font color='red'>[Writing comments(explanatory sentences) in any of the code is completely optional]</font>**"
   ]
  },
  {
   "cell_type": "markdown",
   "metadata": {
    "colab_type": "text",
    "id": "hQCnOmw6iWER"
   },
   "source": [
    "# Task 01\n",
    "Mr. Bean is having a small party at his house. So he wants to order a few cheese and pepperoni pizzas. The price of each cheese pizza is **250 taka** and the price of each pepperoni pizza is **800 taka.** The pizza shop will offer a discount depending on the total bill amount. The table below shows the discount he will get on his total amount.\n",
    "\n",
    "\n",
    "\n",
    "|Total Amount (TK)|Discount (TK)|\n",
    "|------|------|\n",
    "|0 - 399  |No discount\n",
    "|400 - 699  |20\n",
    "|700 - 849 |40\n",
    "|850 - 1599|100\n",
    "|>= 1600  |250\n",
    "\n",
    "Write a python program and take two inputs from the user. The first input will be the number of cheese pizzas and the second input will be the number of pepperoni pizzas. Based on the price of each pizza, calculate the total amount that Mr. Bean needs to pay.\n",
    "\n",
    " ================================\n",
    "\n",
    "**Sample input 1:**\\\n",
    "10  \n",
    "5\n",
    "\n",
    "\n",
    "**Sample output 1:**\\\n",
    "Previous total: 6500\\\n",
    "New total after discount: 6250\n",
    "\n",
    "\n",
    "\n",
    "\n",
    "*Explanation(1): 10 * 250 + 5 *800 = 6500 Tk was his total bill without a discount.  For 6500Tk, the discount amount is 250 Tk. So, with discount his updated bill is (6500-250)= 6250Tk.*\n",
    "\n",
    "\n",
    "================================\n",
    "\n",
    "**Sample input 2:**\\\n",
    "0  \n",
    "1\n",
    "\n",
    "\n",
    "**Sample output 2:**\\\n",
    "Previous total: 800\n",
    "New total after discount: 760\n",
    "\n",
    "*Explanation(2): 0 * 250 + 1 *800 = 800 Tk was his total  bill without a discount.  For 800Tk, the discount amount is 40 Tk. So, with discount his updated bill is (800-40)= 760Tk.*\n",
    "\n"
   ]
  },
  {
   "cell_type": "code",
   "execution_count": 1,
   "metadata": {
    "colab": {},
    "colab_type": "code",
    "id": "P0vIwmbeiWEU"
   },
   "outputs": [
    {
     "name": "stdout",
     "output_type": "stream",
     "text": [
      "Enter the amount:10\n",
      "Enter amount:5\n",
      "Previous total: 6500\n",
      "New total after discount: 6250\n"
     ]
    }
   ],
   "source": [
    "cheese_pizza=int(input('Enter the amount:'))\n",
    "pepperoni_pizza=int(input('Enter amount:'))\n",
    "\n",
    "price_cheese_pizza=cheese_pizza*250\n",
    "price_pepperoni_pizza=pepperoni_pizza*800\n",
    "total_price=(price_pepperoni_pizza+price_cheese_pizza)\n",
    "print('Previous total:',total_price)\n",
    "if (total_price>=0and total_price<=399):\n",
    "    print('NO discount')\n",
    "if(total_price>=400 and total_price<=699):\n",
    "    print('New total after discount:',(total_price-20))\n",
    "if (total_price >= 700 and total_price <= 849):\n",
    "    print('New total after discount:', (total_price - 40))\n",
    "    \n",
    "if(total_price >= 850 and total_price <= 1599):\n",
    "    print('New total after discount:', (total_price - 100))\n",
    "else:\n",
    "    print('New total after discount:',(total_price-250))"
   ]
  },
  {
   "cell_type": "markdown",
   "metadata": {
    "colab_type": "text",
    "id": "zUyYKkWViWEd"
   },
   "source": [
    "# Task 02\n",
    "Write a python program that will take a number as an input from the user and then\n",
    "print the summation of all odd digits of that number. \n",
    "\n",
    "\n",
    "*Hint :You may assume that the input number is a non negative number.*\n",
    "\n",
    " ================================\n",
    "\n",
    "**Sample input 1:**\\\n",
    "234567\\\n",
    "**Sample output 1:**\\\n",
    "15\\\n",
    " *Explaination: 3+5+7 = 15*\n",
    "\n",
    "  ================================\n",
    "\n",
    "**Sample input 2:**\\\n",
    "224499 \\\n",
    "**Sample output 2:**\\\n",
    "18\\\n",
    "*Explaination: 9+9 = 18*\n",
    "\n"
   ]
  },
  {
   "cell_type": "code",
   "execution_count": 5,
   "metadata": {
    "colab": {},
    "colab_type": "code",
    "id": "_oEJ6XwgiWEh"
   },
   "outputs": [
    {
     "name": "stdout",
     "output_type": "stream",
     "text": [
      "224499\n"
     ]
    },
    {
     "ename": "TypeError",
     "evalue": "not all arguments converted during string formatting",
     "output_type": "error",
     "traceback": [
      "\u001b[1;31m---------------------------------------------------------------------------\u001b[0m",
      "\u001b[1;31mTypeError\u001b[0m                                 Traceback (most recent call last)",
      "\u001b[1;32m<ipython-input-5-5948b0fc6182>\u001b[0m in \u001b[0;36m<module>\u001b[1;34m\u001b[0m\n\u001b[0;32m      2\u001b[0m \u001b[0msum_of_odds\u001b[0m \u001b[1;33m=\u001b[0m \u001b[1;36m1\u001b[0m\u001b[1;33m\u001b[0m\u001b[1;33m\u001b[0m\u001b[0m\n\u001b[0;32m      3\u001b[0m \u001b[1;32mfor\u001b[0m \u001b[0mdigit\u001b[0m \u001b[1;32min\u001b[0m \u001b[0mstr\u001b[0m\u001b[1;33m(\u001b[0m\u001b[0mnumber\u001b[0m\u001b[1;33m)\u001b[0m\u001b[1;33m:\u001b[0m\u001b[1;33m\u001b[0m\u001b[1;33m\u001b[0m\u001b[0m\n\u001b[1;32m----> 4\u001b[1;33m     \u001b[1;32mif\u001b[0m \u001b[0mdigit\u001b[0m\u001b[1;33m%\u001b[0m \u001b[1;36m2\u001b[0m \u001b[1;33m==\u001b[0m \u001b[1;36m1\u001b[0m\u001b[1;33m:\u001b[0m\u001b[1;33m\u001b[0m\u001b[1;33m\u001b[0m\u001b[0m\n\u001b[0m\u001b[0;32m      5\u001b[0m         \u001b[0msum_of_odds\u001b[0m\u001b[1;33m+=\u001b[0m \u001b[0mstr\u001b[0m\u001b[1;33m(\u001b[0m\u001b[0mdigit\u001b[0m\u001b[1;33m)\u001b[0m\u001b[1;33m\u001b[0m\u001b[1;33m\u001b[0m\u001b[0m\n\u001b[0;32m      6\u001b[0m \u001b[0mprint\u001b[0m\u001b[1;33m(\u001b[0m\u001b[0msum_of_odds\u001b[0m\u001b[1;33m)\u001b[0m\u001b[1;33m\u001b[0m\u001b[1;33m\u001b[0m\u001b[0m\n",
      "\u001b[1;31mTypeError\u001b[0m: not all arguments converted during string formatting"
     ]
    }
   ],
   "source": [
    "umber = int(input())\n",
    "sum_of_odds = 1\n",
    "for digit in str(number):\n",
    "    if digit% 2 == 1:\n",
    "        sum_of_odds+= str(digit)\n",
    "print(sum_of_odds)"
   ]
  },
  {
   "cell_type": "markdown",
   "metadata": {
    "colab_type": "text",
    "id": "CEhXrQIhiWEo"
   },
   "source": [
    "# Task 03\n",
    "Write a program that takes a string as input from the user. Let us say you want to find out whether the string that the user gave has the first letter of your own name. Now if you find the first letter of your name in the string which the user gave, then print “Found”. Otherwise, print “Not found” (please look at sample for further clarification)”\n",
    "\\\n",
    "**<font color='red'>( You need to ignore the cases. For example, 'p' and 'P' will be considered the same.)**\\\n",
    "**<font color='red'>( Please write your name in a comment in your code. Example: #Fahim)**\n",
    "\n",
    "\n",
    " \n",
    "  ================================\n",
    "\n",
    " For example: If your name is Charolette, it starts with a ‘C’, \\\n",
    "**Sample input 1:**\\\n",
    "china\n",
    "\n",
    "**Sample output 1:**\\\n",
    "Found\\\n",
    "\\\n",
    "*Explanation: china has ‘c’ in it and remember we are ignoring cases (uppercase/lowercase) thus the user input contains the first letter of your name hence output is ‘Found’*\n",
    "\n",
    "  ================================\n",
    "  \n",
    "For example: If your name is Fahim, it starts with a ‘F’,\\\n",
    "**Sample input 2:**\\\n",
    "craft\n",
    "\n",
    "**Sample output 2:**\\\n",
    "Found\\\n",
    "\\\n",
    "*Explanation: craft has ‘f’ in it and remember we are ignoring cases (uppercase/lowercase) thus the user input contains the first letter of your name hence output is ‘Found’*\n",
    " \n",
    "  ================================\n",
    "  \n",
    "If your name is Tanisha, it starts with ‘T’ \\\n",
    "**Sample input 3:**\\\n",
    "Bangladesh\n",
    "\n",
    "**Sample output 3:**\\\n",
    "Not found\\\n",
    "\\\n",
    "*Explanation: Bangladesh does not have ‘T’ in it and remember we are ignoring cases (uppercase/lowercase) thus the user input does not contain the first letter of your name hence output is ‘Not found’*"
   ]
  },
  {
   "cell_type": "code",
   "execution_count": 4,
   "metadata": {
    "colab": {},
    "colab_type": "code",
    "id": "gWQIR06LiWEp"
   },
   "outputs": [
    {
     "name": "stdout",
     "output_type": "stream",
     "text": [
      "enter:Bangladesh\n",
      "Not found\n"
     ]
    }
   ],
   "source": [
    "variable= str(input('enter:'))\n",
    "condition=','\n",
    "if condition in variable:\n",
    "    print('Found')\n",
    "else:\n",
    "    print('Not found')\n",
    "    "
   ]
  }
 ],
 "metadata": {
  "colab": {
   "collapsed_sections": [],
   "name": "set 02.ipynb",
   "provenance": []
  },
  "kernelspec": {
   "display_name": "Python 3",
   "language": "python",
   "name": "python3"
  },
  "language_info": {
   "codemirror_mode": {
    "name": "ipython",
    "version": 3
   },
   "file_extension": ".py",
   "mimetype": "text/x-python",
   "name": "python",
   "nbconvert_exporter": "python",
   "pygments_lexer": "ipython3",
   "version": "3.7.6"
  }
 },
 "nbformat": 4,
 "nbformat_minor": 1
}
