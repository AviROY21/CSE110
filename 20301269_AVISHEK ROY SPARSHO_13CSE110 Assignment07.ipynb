{
 "cells": [
  {
   "cell_type": "markdown",
   "metadata": {
    "colab_type": "text",
    "id": "oMYzsTcnHEll"
   },
   "source": [
    "# CSE110 Assignment 7\n",
    "\n",
    "\n",
    "## Write the Python code of the following problems:\n",
    "**<font color='red'>[MUST MAINTAIN VARIABLE NAMING CONVENTIONS FOR ALL THE TASKS]</font>**"
   ]
  },
  {
   "cell_type": "markdown",
   "metadata": {
    "colab_type": "text",
    "id": "jT-t2zlnHEll"
   },
   "source": [
    "### Task 1\n",
    "\n",
    "Given a list named my_list. <br/>\n",
    "my_list=[10,1,20,3,6,2,5,11,15,2,12,14,17,18,29] <br/>\n",
    "Now use bubble sort to sort my_list into ascending order.\n",
    "\n",
    "**Output**<br/>\n",
    "[1, 2, 2, 3, 5, 6, 10, 11, 12, 14, 15, 17, 18, 20, 29]"
   ]
  },
  {
   "cell_type": "code",
   "execution_count": 2,
   "metadata": {
    "colab": {},
    "colab_type": "code",
    "id": "7qXVakLgHElm"
   },
   "outputs": [
    {
     "name": "stdout",
     "output_type": "stream",
     "text": [
      "[1, 2, 2, 3, 5, 6, 10, 11, 12, 14, 15, 17, 18, 20, 29]\n"
     ]
    }
   ],
   "source": [
    "my_list=[10,1,20,3,6,2,5,11,15,2,12,14,17,18,29]\n",
    "for x in range(0,len(my_list)):\n",
    "  minList=x\n",
    "  for y in range (x+1,len(my_list)):\n",
    "    if my_list[y]<my_list[minList]:\n",
    "      minList=y\n",
    "  trans=my_list[x]\n",
    "  my_list[x]=my_list[minList]\n",
    "  my_list[minList]=trans\n",
    "print(my_list)"
   ]
  },
  {
   "cell_type": "markdown",
   "metadata": {
    "colab_type": "text",
    "id": "w1QgeWd2HElp"
   },
   "source": [
    "### Task 2\n",
    "\n",
    "Given a list named my_list. <br/>\n",
    "my_list=[10,1,20,3,6,2,5,11,15,2,12,14,17,18,29] <br/>\n",
    "Now use selection sort to sort my_list into ascending order.\n",
    "\n",
    "**Output**<br/>\n",
    "[1, 2, 2, 3, 5, 6, 10, 11, 12, 14, 15, 17, 18, 20, 29]\n",
    "\n"
   ]
  },
  {
   "cell_type": "code",
   "execution_count": 4,
   "metadata": {
    "colab": {},
    "colab_type": "code",
    "id": "am0B_8ICHElq"
   },
   "outputs": [
    {
     "name": "stdout",
     "output_type": "stream",
     "text": [
      "[1, 2, 2, 3, 5, 6, 10, 11, 12, 14, 15, 17, 18, 20, 29]\n"
     ]
    }
   ],
   "source": [
    "\n",
    "my_list=[10,1,20,3,6,2,5,11,15,2,12,14,17,18,29]\n",
    "\n",
    "for x in range(len(my_list)-1,0,-1):\n",
    "  for y in range(x):\n",
    "    if my_list[y]>my_list[y+1]:\n",
    "      trans=my_list[y]\n",
    "      my_list[y]=my_list[y+1]\n",
    "      my_list[y+1]=trans\n",
    "print(my_list)\n"
   ]
  },
  {
   "cell_type": "markdown",
   "metadata": {
    "colab_type": "text",
    "id": "j4ffr2CAHElt"
   },
   "source": [
    "### Task  3\n",
    "\n",
    "Given a list named my_list. <br/>\n",
    "my_list=[10,1,20,3,6,2,5,11,15,2,12,14,17,18,29] <br/>\n",
    "Now use any of the two sorts used above to sort the list in descending order.\n",
    "\n",
    "**Output**<br/>\n",
    "[29, 20, 18, 17, 15, 14, 12, 11, 10, 6, 5, 3, 2, 2, 1]\n"
   ]
  },
  {
   "cell_type": "code",
   "execution_count": 3,
   "metadata": {
    "colab": {},
    "colab_type": "code",
    "id": "n2X3YR-_HElt"
   },
   "outputs": [
    {
     "name": "stdout",
     "output_type": "stream",
     "text": [
      "[29, 20, 18, 17, 15, 14, 12, 11, 10, 6, 5, 3, 2, 2, 1]\n"
     ]
    }
   ],
   "source": [
    "my_list=[10,1,20,3,6,2,5,11,15,2,12,14,17,18,29]\n",
    "\n",
    "\n",
    "for x in range(len(my_list)-1,0,-1):\n",
    "  for y in range(x):\n",
    "    if my_list[y]<my_list[y+1]:\n",
    "      trans=my_list[y]\n",
    "      my_list[y]=my_list[y+1]\n",
    "      my_list[y+1]=trans\n",
    "print(my_list)"
   ]
  },
  {
   "cell_type": "markdown",
   "metadata": {
    "colab_type": "text",
    "id": "9iYiiTWWHElw"
   },
   "source": [
    "### Task 4\n",
    "\n",
    "Suppose you have a sitting arrangement of the students of the final exam in a list. The list contains the last two digits of their roll number.<br/>\n",
    "\n",
    "sitting_list=[10,30,20,70,11,15,22,16,58,100,12,56,70,80] <br/>\n",
    "\n",
    "Now you want to organize the sitting arrangement. You decided to sort all the students in the even indices into ascending order and all the students in the odd indices  into descending order.  <br/>\n",
    "\n",
    "So write a python program that organizes the list for you the way you decided.<br/>\n",
    "\n",
    "\n",
    "**Sample Output**<br/>\n",
    "[10, 100, 11, 80, 12, 70, 20, 56, 22, 30, 58, 16, 70, 15]"
   ]
  },
  {
   "cell_type": "code",
   "execution_count": 5,
   "metadata": {
    "colab": {},
    "colab_type": "code",
    "id": "nPdUAKDJHElw"
   },
   "outputs": [
    {
     "name": "stdout",
     "output_type": "stream",
     "text": [
      "[10, 100, 11, 80, 12, 70, 20, 56, 22, 30, 58, 16, 70, 15]\n"
     ]
    }
   ],
   "source": [
    "sitting_list = [10, 30, 20, 70, 11, 15, 22, 16, 58, 100, 12, 56, 70, 80]\n",
    "indexLen=len(sitting_list)\n",
    "evenIndex =[]\n",
    "oddIndex =[]\n",
    "for x in range(indexLen):\n",
    "    if (x) % 2 == 0:\n",
    "        evenIndex.append(sitting_list[x])\n",
    "    if (x)%2!=0:\n",
    "        oddIndex.append(sitting_list[x])\n",
    "evenIndex.sort()\n",
    "oddIndex.sort(reverse=True)\n",
    "\n",
    "\n",
    "lenght1=len(evenIndex)\n",
    "lenght2=len(oddIndex)\n",
    "\n",
    "NewList=[]\n",
    "for x in range(lenght1):\n",
    "    newlist=(evenIndex[x],oddIndex[x])\n",
    "    for x in newlist:\n",
    "        NewList.append(x)\n",
    "print(NewList)\n",
    "\n",
    "\n"
   ]
  },
  {
   "cell_type": "markdown",
   "metadata": {
    "colab_type": "text",
    "id": "oVR1Tsa0HElz"
   },
   "source": [
    "### Task 5\n",
    "\n",
    "Suppose a list contains the final exam results of CSE110, PHY111, and MAT110 of each student in a listed form. Your task is to sort the list based on a course name that will be given by the user and print the names after sorting. <br/>\n",
    "\n",
    "For example, a list looks like <br/>\n",
    "Lst = [ [‘Farzad’,95,87,91] , [‘Mahjabin’,92,90,83], [‘Sadman’,87,92,80], [‘Nakhla’,85,94,90] ] <br/>\n",
    "where for each list, 1st index is name, 2nd index is CSE110, 3rd index is PHY111 and 4th index is MAT110. \n",
    "\n",
    "**Sample Input**<br/>\n",
    "MAT110\n",
    "\n",
    "**Sample Output**<br/>\n",
    "Farzad <br/>\n",
    "Nakhla <br/>\n",
    "Mahjabin <br/>\n",
    "Sadman\n",
    "\n",
    "**Hint:**<br/>\n",
    "Nested list can be accessed by listname[firstIndex][secondIndex] like lst[0][0] will give Farzad\n"
   ]
  },
  {
   "cell_type": "code",
   "execution_count": 1,
   "metadata": {
    "colab": {},
    "colab_type": "code",
    "id": "539b2P1NHElz"
   },
   "outputs": [
    {
     "name": "stdout",
     "output_type": "stream",
     "text": [
      "Subject-CSE110\n",
      "Farzad\n",
      "Mahjabin\n",
      "Sadman\n",
      "Nakhla\n"
     ]
    }
   ],
   "source": [
    "Lst = [ [\"Farzad\",95,87,91] , [\"Mahjabin\",92,90,83], [\"Sadman\",87,92,80], [\"Nakhla\",85,94,90] ]\n",
    "list1=[]\n",
    "input=input('Subject-')\n",
    "index=0\n",
    "marks=[]\n",
    "dict1={}\n",
    "for x in range (len(Lst)):\n",
    "  if input=='CSE110':\n",
    "    index=1\n",
    "  if input=='PHY111':\n",
    "    index=2\n",
    "  if input=='MAT110':\n",
    "    index=3\n",
    "  marks.append(Lst[x][index])\n",
    "marks=sorted(list(marks),reverse=True)\n",
    "for x in range(len(Lst)):\n",
    "  y=Lst[x][0]\n",
    "  z=Lst[x][index]\n",
    "  dict1[y]=z\n",
    "for x in marks:\n",
    "  for key,values in dict1.items():\n",
    "    if x==values:\n",
    "      if key not in list1:\n",
    "        print(key)\n",
    "        list1.append(key)"
   ]
  },
  {
   "cell_type": "markdown",
   "metadata": {
    "colab_type": "text",
    "id": "B0Rqbyi4HEl2"
   },
   "source": [
    "### Task 6\n",
    "\n",
    "Suppose you have a list named my_list. Your task is to sort the list and print the count of numbers that have changed their position. <br/>\n",
    "my_list = [4,2,3,1,6,5] <br/>\n",
    "Sorted list would be [1,2,3,4,5,6] where 4 numbers have changed their position.\n",
    "\n",
    "\n",
    "**Sample Output**<br/>\n",
    "4"
   ]
  },
  {
   "cell_type": "code",
   "execution_count": 6,
   "metadata": {
    "colab": {},
    "colab_type": "code",
    "id": "AMc8jAa7HEl2"
   },
   "outputs": [
    {
     "name": "stdout",
     "output_type": "stream",
     "text": [
      "4\n"
     ]
    }
   ],
   "source": [
    "\n",
    "my_list=[4,2,3,1,6,5]\n",
    "upList=sorted(my_list)\n",
    "start=0\n",
    "\n",
    "for x in range(len(my_list)):\n",
    "\n",
    "  if ( my_list[x]!= upList[x]):\n",
    "    start+=1\n",
    "\n",
    "print(start)"
   ]
  },
  {
   "cell_type": "markdown",
   "metadata": {
    "colab_type": "text",
    "id": "iIH5n0sJHEl5"
   },
   "source": [
    "### Task 7\n",
    "\n",
    "Write a python program that takes two lists from the user, merges the two lists, sorts the list, and find the median of the elements of the two lists.\n",
    "\n",
    "**Sample Input 1**<br/>\n",
    "list_one= [1,2,1,4] <br/>\n",
    "list_two= [5,4,1]\n",
    "\n",
    "\n",
    "**Sample Output 1**<br/>\n",
    "Sorted list= [1, 1, 1, 2, 4, 4, 5] <br/>\n",
    "Median = 2\n",
    "\n",
    "**Sample Input 2**<br/>\n",
    "list_one= [1,7,9,10] <br/>\n",
    "list_two= [2,7,6,5]\n",
    "\n",
    "\n",
    "**Sample Output 2**<br/>\n",
    "Sorted list=[1, 2, 5, 6, 7, 7, 9, 10] <br/>\n",
    "Median=6.5\n",
    "\n"
   ]
  },
  {
   "cell_type": "code",
   "execution_count": null,
   "metadata": {
    "colab": {},
    "colab_type": "code",
    "id": "KsFxC7XbHEl6"
   },
   "outputs": [],
   "source": [
    "\n",
    "list1=input('Enter1 -')\n",
    "list2=input('Enter2-')\n",
    "list3=input('Enter3 -')\n",
    "\n",
    "list3 = list1+list2\n",
    "list4 =[]\n",
    "\n",
    "for find in list3:\n",
    "     list4.append(int(find))\n",
    "\n",
    "for x in range(len(list4)):\n",
    "     for y  in range(len(list4)-1):\n",
    "          if list4[y ]>list4[y+1]:\n",
    "               trans=list4[y]\n",
    "               list4[y]=list4[y+1]\n",
    "               list4[y+1]=trans\n",
    "\n",
    "differ=len(list4)//2\n",
    "if len(list4)%2 !=0:\n",
    "     median=list4[differ]\n",
    "\n",
    "else:\n",
    "     median =(list4[differ-1]+list4[differ])/2\n",
    "\n",
    "print('New list =',list4)\n",
    "print('Median=',median)"
   ]
  },
  {
   "cell_type": "markdown",
   "metadata": {
    "colab_type": "text",
    "id": "-XKiwBR1HEl8"
   },
   "source": [
    "### Task 8\n",
    "\n",
    "\n",
    "Write a python program that takes a list from user containing both positive and negative numbers. The program then finds two pairs of values whose summation is closest to zero.\n",
    "\n",
    "**Sample Input 1**<br/>\n",
    "list_one=[-10,15,2,4,-4,7,-8] \n",
    "\n",
    "\n",
    "**Sample Output 1**<br/>\n",
    "Two pairs which have the smallest sum = 4 and -4\n",
    "\n",
    "\n",
    "**Sample Input 2**<br/>\n",
    "list_one=[1,-8,4,-7,-20,26,70,-85]\n",
    "\n",
    "\n",
    "**Sample Output 2**<br/>\n",
    "Two pairs which have the smallest sum = 4 and -7"
   ]
  },
  {
   "cell_type": "code",
   "execution_count": null,
   "metadata": {
    "colab": {},
    "colab_type": "code",
    "id": "5ORSGa5GHEl9"
   },
   "outputs": [],
   "source": [
    "listOne=input('enter :')\n",
    "newList=[]\n",
    "minimum1=0\n",
    "minimum2=1\n",
    "\n",
    "for x in listOne:\n",
    "     newList.append(int(x))\n",
    "minimumsum=newList[0]+ newList[1]\n",
    "\n",
    "for find in range(0,len(newList)-1):\n",
    "     for key in range(find+1,len(newList)):\n",
    "          sum1 =newList[find]+ newList[key]\n",
    "          if abs(minimumsum)>abs(sum1):\n",
    "\n",
    "               minimumsum=sum1\n",
    "               minimum1=find\n",
    "               minimum2=key\n",
    "\n",
    "\n",
    "print('Two pairs which have smallest sum =',newList[minimum1],'and',newList[minimum2])"
   ]
  }
 ],
 "metadata": {
  "colab": {
   "collapsed_sections": [],
   "name": "CSE110 Assignment07.ipynb",
   "provenance": []
  },
  "kernelspec": {
   "display_name": "Python 3",
   "language": "python",
   "name": "python3"
  },
  "language_info": {
   "codemirror_mode": {
    "name": "ipython",
    "version": 3
   },
   "file_extension": ".py",
   "mimetype": "text/x-python",
   "name": "python",
   "nbconvert_exporter": "python",
   "pygments_lexer": "ipython3",
   "version": "3.7.6"
  }
 },
 "nbformat": 4,
 "nbformat_minor": 1
}
